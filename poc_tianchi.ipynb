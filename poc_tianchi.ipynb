{
 "cells": [
  {
   "cell_type": "markdown",
   "id": "059d98ee",
   "metadata": {},
   "source": [
    "# Recommender System Modeling"
   ]
  },
  {
   "cell_type": "code",
   "execution_count": 1,
   "id": "ac9b41d0",
   "metadata": {},
   "outputs": [
    {
     "data": {
      "text/plain": [
       "<torch._C.Generator at 0x12577c290>"
      ]
     },
     "execution_count": 1,
     "metadata": {},
     "output_type": "execute_result"
    }
   ],
   "source": [
    "import random\n",
    "import numpy as np\n",
    "import pandas as pd\n",
    "import torch\n",
    "import torch.nn as nn\n",
    "from torch.utils.data import DataLoader\n",
    "from sklearn.metrics import roc_auc_score\n",
    "from network import Ranking\n",
    "from data import RecoData, collate_fn\n",
    "from train import train, test\n",
    "\n",
    "pd.set_option('display.max_rows', 100)\n",
    "random.seed(0)\n",
    "torch.manual_seed(233)"
   ]
  },
  {
   "cell_type": "markdown",
   "id": "bfc5f201",
   "metadata": {},
   "source": [
    "## 1. 公开数据\n",
    "数据来自天池的淘宝电商数据集，已做预处理。\n",
    "处理后的数据包含以下字段：\n",
    "1. user:  用户id\n",
    "2. item:  物品id\n",
    "3. category:  物品分类\n",
    "4. behavior:  用户行为，包含浏览（pv），加购物车（cart），收藏（fav），购买（buy）\n",
    "5. timestamp:  时间戳\n",
    "6. item_list:  用户以往交互过的物品id列表\n",
    "7. cate_list:  用户以往交互过的物品分类id列表\n",
    "8. behavior_list:  用户以往交互过的行为列表\n",
    "\n",
    "原链接：https://tianchi.aliyun.com/dataset/dataDetail?dataId=649"
   ]
  },
  {
   "cell_type": "code",
   "execution_count": 2,
   "id": "82821a18",
   "metadata": {},
   "outputs": [
    {
     "data": {
      "text/html": [
       "<div>\n",
       "<style scoped>\n",
       "    .dataframe tbody tr th:only-of-type {\n",
       "        vertical-align: middle;\n",
       "    }\n",
       "\n",
       "    .dataframe tbody tr th {\n",
       "        vertical-align: top;\n",
       "    }\n",
       "\n",
       "    .dataframe thead th {\n",
       "        text-align: right;\n",
       "    }\n",
       "</style>\n",
       "<table border=\"1\" class=\"dataframe\">\n",
       "  <thead>\n",
       "    <tr style=\"text-align: right;\">\n",
       "      <th></th>\n",
       "      <th>user</th>\n",
       "      <th>item</th>\n",
       "      <th>category</th>\n",
       "      <th>behavior</th>\n",
       "      <th>timestamp</th>\n",
       "      <th>item_list</th>\n",
       "      <th>cate_list</th>\n",
       "      <th>behavior_list</th>\n",
       "    </tr>\n",
       "  </thead>\n",
       "  <tbody>\n",
       "    <tr>\n",
       "      <th>0</th>\n",
       "      <td>0</td>\n",
       "      <td>4</td>\n",
       "      <td>0</td>\n",
       "      <td>pv</td>\n",
       "      <td>1511669729</td>\n",
       "      <td>[0, 1, 2, 1, 3]</td>\n",
       "      <td>[0, 1, 2, 1, 0]</td>\n",
       "      <td>['pv', 'pv', 'cart', 'pv', 'cart']</td>\n",
       "    </tr>\n",
       "    <tr>\n",
       "      <th>1</th>\n",
       "      <td>0</td>\n",
       "      <td>5</td>\n",
       "      <td>3</td>\n",
       "      <td>pv</td>\n",
       "      <td>1511669796</td>\n",
       "      <td>[0, 1, 2, 1, 3, 4]</td>\n",
       "      <td>[0, 1, 2, 1, 0, 0]</td>\n",
       "      <td>['pv', 'pv', 'cart', 'pv', 'cart', 'pv']</td>\n",
       "    </tr>\n",
       "    <tr>\n",
       "      <th>2</th>\n",
       "      <td>0</td>\n",
       "      <td>6</td>\n",
       "      <td>0</td>\n",
       "      <td>pv</td>\n",
       "      <td>1511672939</td>\n",
       "      <td>[0, 1, 2, 1, 3, 4, 5]</td>\n",
       "      <td>[0, 1, 2, 1, 0, 0, 3]</td>\n",
       "      <td>['pv', 'pv', 'cart', 'pv', 'cart', 'pv', 'pv']</td>\n",
       "    </tr>\n",
       "    <tr>\n",
       "      <th>3</th>\n",
       "      <td>0</td>\n",
       "      <td>7</td>\n",
       "      <td>0</td>\n",
       "      <td>pv</td>\n",
       "      <td>1511672951</td>\n",
       "      <td>[0, 1, 2, 1, 3, 4, 5, 6]</td>\n",
       "      <td>[0, 1, 2, 1, 0, 0, 3, 0]</td>\n",
       "      <td>['pv', 'pv', 'cart', 'pv', 'cart', 'pv', 'pv',...</td>\n",
       "    </tr>\n",
       "    <tr>\n",
       "      <th>4</th>\n",
       "      <td>0</td>\n",
       "      <td>8</td>\n",
       "      <td>4</td>\n",
       "      <td>pv</td>\n",
       "      <td>1511672973</td>\n",
       "      <td>[0, 1, 2, 1, 3, 4, 5, 6, 7]</td>\n",
       "      <td>[0, 1, 2, 1, 0, 0, 3, 0, 0]</td>\n",
       "      <td>['pv', 'pv', 'cart', 'pv', 'cart', 'pv', 'pv',...</td>\n",
       "    </tr>\n",
       "    <tr>\n",
       "      <th>5</th>\n",
       "      <td>0</td>\n",
       "      <td>6</td>\n",
       "      <td>0</td>\n",
       "      <td>pv</td>\n",
       "      <td>1511672981</td>\n",
       "      <td>[0, 1, 2, 1, 3, 4, 5, 6, 7, 8]</td>\n",
       "      <td>[0, 1, 2, 1, 0, 0, 3, 0, 0, 4]</td>\n",
       "      <td>['pv', 'pv', 'cart', 'pv', 'cart', 'pv', 'pv',...</td>\n",
       "    </tr>\n",
       "    <tr>\n",
       "      <th>6</th>\n",
       "      <td>0</td>\n",
       "      <td>8</td>\n",
       "      <td>4</td>\n",
       "      <td>pv</td>\n",
       "      <td>1511703434</td>\n",
       "      <td>[0, 1, 2, 1, 3, 4, 5, 6, 7, 8, 6]</td>\n",
       "      <td>[0, 1, 2, 1, 0, 0, 3, 0, 0, 4, 0]</td>\n",
       "      <td>['pv', 'pv', 'cart', 'pv', 'cart', 'pv', 'pv',...</td>\n",
       "    </tr>\n",
       "    <tr>\n",
       "      <th>7</th>\n",
       "      <td>0</td>\n",
       "      <td>9</td>\n",
       "      <td>2</td>\n",
       "      <td>pv</td>\n",
       "      <td>1511703467</td>\n",
       "      <td>[0, 1, 2, 1, 3, 4, 5, 6, 7, 8, 6, 8]</td>\n",
       "      <td>[0, 1, 2, 1, 0, 0, 3, 0, 0, 4, 0, 4]</td>\n",
       "      <td>['pv', 'pv', 'cart', 'pv', 'cart', 'pv', 'pv',...</td>\n",
       "    </tr>\n",
       "    <tr>\n",
       "      <th>8</th>\n",
       "      <td>0</td>\n",
       "      <td>10</td>\n",
       "      <td>5</td>\n",
       "      <td>pv</td>\n",
       "      <td>1511704082</td>\n",
       "      <td>[0, 1, 2, 1, 3, 4, 5, 6, 7, 8, 6, 8, 9]</td>\n",
       "      <td>[0, 1, 2, 1, 0, 0, 3, 0, 0, 4, 0, 4, 2]</td>\n",
       "      <td>['pv', 'pv', 'cart', 'pv', 'cart', 'pv', 'pv',...</td>\n",
       "    </tr>\n",
       "    <tr>\n",
       "      <th>9</th>\n",
       "      <td>0</td>\n",
       "      <td>11</td>\n",
       "      <td>6</td>\n",
       "      <td>pv</td>\n",
       "      <td>1511704161</td>\n",
       "      <td>[0, 1, 2, 1, 3, 4, 5, 6, 7, 8, 6, 8, 9, 10]</td>\n",
       "      <td>[0, 1, 2, 1, 0, 0, 3, 0, 0, 4, 0, 4, 2, 5]</td>\n",
       "      <td>['pv', 'pv', 'cart', 'pv', 'cart', 'pv', 'pv',...</td>\n",
       "    </tr>\n",
       "  </tbody>\n",
       "</table>\n",
       "</div>"
      ],
      "text/plain": [
       "   user  item  category behavior   timestamp  \\\n",
       "0     0     4         0       pv  1511669729   \n",
       "1     0     5         3       pv  1511669796   \n",
       "2     0     6         0       pv  1511672939   \n",
       "3     0     7         0       pv  1511672951   \n",
       "4     0     8         4       pv  1511672973   \n",
       "5     0     6         0       pv  1511672981   \n",
       "6     0     8         4       pv  1511703434   \n",
       "7     0     9         2       pv  1511703467   \n",
       "8     0    10         5       pv  1511704082   \n",
       "9     0    11         6       pv  1511704161   \n",
       "\n",
       "                                     item_list  \\\n",
       "0                              [0, 1, 2, 1, 3]   \n",
       "1                           [0, 1, 2, 1, 3, 4]   \n",
       "2                        [0, 1, 2, 1, 3, 4, 5]   \n",
       "3                     [0, 1, 2, 1, 3, 4, 5, 6]   \n",
       "4                  [0, 1, 2, 1, 3, 4, 5, 6, 7]   \n",
       "5               [0, 1, 2, 1, 3, 4, 5, 6, 7, 8]   \n",
       "6            [0, 1, 2, 1, 3, 4, 5, 6, 7, 8, 6]   \n",
       "7         [0, 1, 2, 1, 3, 4, 5, 6, 7, 8, 6, 8]   \n",
       "8      [0, 1, 2, 1, 3, 4, 5, 6, 7, 8, 6, 8, 9]   \n",
       "9  [0, 1, 2, 1, 3, 4, 5, 6, 7, 8, 6, 8, 9, 10]   \n",
       "\n",
       "                                    cate_list  \\\n",
       "0                             [0, 1, 2, 1, 0]   \n",
       "1                          [0, 1, 2, 1, 0, 0]   \n",
       "2                       [0, 1, 2, 1, 0, 0, 3]   \n",
       "3                    [0, 1, 2, 1, 0, 0, 3, 0]   \n",
       "4                 [0, 1, 2, 1, 0, 0, 3, 0, 0]   \n",
       "5              [0, 1, 2, 1, 0, 0, 3, 0, 0, 4]   \n",
       "6           [0, 1, 2, 1, 0, 0, 3, 0, 0, 4, 0]   \n",
       "7        [0, 1, 2, 1, 0, 0, 3, 0, 0, 4, 0, 4]   \n",
       "8     [0, 1, 2, 1, 0, 0, 3, 0, 0, 4, 0, 4, 2]   \n",
       "9  [0, 1, 2, 1, 0, 0, 3, 0, 0, 4, 0, 4, 2, 5]   \n",
       "\n",
       "                                       behavior_list  \n",
       "0                 ['pv', 'pv', 'cart', 'pv', 'cart']  \n",
       "1           ['pv', 'pv', 'cart', 'pv', 'cart', 'pv']  \n",
       "2     ['pv', 'pv', 'cart', 'pv', 'cart', 'pv', 'pv']  \n",
       "3  ['pv', 'pv', 'cart', 'pv', 'cart', 'pv', 'pv',...  \n",
       "4  ['pv', 'pv', 'cart', 'pv', 'cart', 'pv', 'pv',...  \n",
       "5  ['pv', 'pv', 'cart', 'pv', 'cart', 'pv', 'pv',...  \n",
       "6  ['pv', 'pv', 'cart', 'pv', 'cart', 'pv', 'pv',...  \n",
       "7  ['pv', 'pv', 'cart', 'pv', 'cart', 'pv', 'pv',...  \n",
       "8  ['pv', 'pv', 'cart', 'pv', 'cart', 'pv', 'pv',...  \n",
       "9  ['pv', 'pv', 'cart', 'pv', 'cart', 'pv', 'pv',...  "
      ]
     },
     "execution_count": 2,
     "metadata": {},
     "output_type": "execute_result"
    }
   ],
   "source": [
    "df = pd.read_csv(\"data/taobao_hot_small.csv\")   # 进一步可以使用全量数据 data/taobao_hot.csv\n",
    "df.head(10)"
   ]
  },
  {
   "cell_type": "markdown",
   "id": "22bd7315",
   "metadata": {},
   "source": [
    "### 数据分布\n",
    "\n",
    "以下直方图中，横轴为单用户对应的样本数，纵轴为浏览记录达到该值的用户数"
   ]
  },
  {
   "cell_type": "code",
   "execution_count": 3,
   "id": "35658145",
   "metadata": {},
   "outputs": [
    {
     "data": {
      "text/plain": [
       "<AxesSubplot:>"
      ]
     },
     "execution_count": 3,
     "metadata": {},
     "output_type": "execute_result"
    },
    {
     "data": {
      "image/png": "[encoded data removed]",
      "text/plain": [
       "<Figure size 432x288 with 1 Axes>"
      ]
     },
     "metadata": {
      "needs_background": "light"
     },
     "output_type": "display_data"
    }
   ],
   "source": [
    "uh = df.groupby(\"user\").count()\n",
    "uh[\"item\"].hist(bins=100)"
   ]
  },
  {
   "cell_type": "markdown",
   "id": "f8845730",
   "metadata": {},
   "source": [
    "用户平均浏览数量"
   ]
  },
  {
   "cell_type": "code",
   "execution_count": 4,
   "id": "d6f315ac",
   "metadata": {},
   "outputs": [
    {
     "data": {
      "text/plain": [
       "39.1967"
      ]
     },
     "execution_count": 4,
     "metadata": {},
     "output_type": "execute_result"
    }
   ],
   "source": [
    "df.groupby(\"user\")[\"item\"].count().mean()"
   ]
  },
  {
   "cell_type": "markdown",
   "id": "a8738789",
   "metadata": {},
   "source": [
    "用户行为分布"
   ]
  },
  {
   "cell_type": "code",
   "execution_count": 5,
   "id": "1b13555d",
   "metadata": {},
   "outputs": [
    {
     "data": {
      "text/plain": [
       "behavior\n",
       "buy       5584\n",
       "cart     20064\n",
       "fav      11259\n",
       "pv      355060\n",
       "Name: item, dtype: int64"
      ]
     },
     "execution_count": 5,
     "metadata": {},
     "output_type": "execute_result"
    }
   ],
   "source": [
    "df.groupby(\"behavior\")[\"item\"].count()"
   ]
  },
  {
   "cell_type": "markdown",
   "id": "eeeee168",
   "metadata": {},
   "source": [
    "### 模型简介\n",
    "\n",
    "#### 算法：\n",
    "DIEN，本质为对用户对物品的历史交互行为序列进行建模，从而达到对目标物品更准确的预估。\n",
    "\n",
    "#### 输入特征：\n",
    "1. 用户侧特征: user_id\n",
    "2. 目标物品特征: item_id, item_category\n",
    "3. 用户历史序列: item_list, cate_list, behavior_list\n",
    "\n",
    "#### 建模过程：\n",
    "\n",
    "DIEN 模型示意图，原论文链接：https://arxiv.org/pdf/1809.03672.pdf\n",
    "![dien](./data/dien.jpg)\n",
    "\n",
    "实际模型结构除一些细微差别外，总体和上图一致。\n",
    "\n",
    "1. Embedding层: user_embedding, target_item_embedding, user_behavior_sequence_embedding\n",
    "2. 循环网络层: hidden_encoding = GRU ( user_behavior_sequence_embedding ) \n",
    "3. 注意力层: atten_encoding = Attention ( q = hidden_encoding, k = target_item, v = target_item )\n",
    "4. 合并层: all_encoding = Concat(atten_encoding, target_item_embedding, user_embedding)\n",
    "5. 全连接层: output = FC2 ( FC1 ( all_encoding ) )\n",
    "\n",
    "loss_fn 使用了二分类交叉熵，并对预估所得的购买概率和实际是否购买计算 AUC 值。天池公布的 baseline auc = 0.622。"
   ]
  },
  {
   "cell_type": "code",
   "execution_count": 6,
   "id": "11e4011a",
   "metadata": {},
   "outputs": [
    {
     "name": "stdout",
     "output_type": "stream",
     "text": [
      "start processing train data\n",
      "start processing eval data\n",
      "train start\n",
      "[epoch  0 batch  500] train_loss: 0.1747, \t eval_loss: 0.0782, \t auc: 0.557859\n",
      "[epoch  0 batch 1000] train_loss: 0.0918, \t eval_loss: 0.0722, \t auc: 0.553547\n",
      "[epoch  0 batch 1500] train_loss: 0.0816, \t eval_loss: 0.0709, \t auc: 0.565621\n",
      "[epoch  0 batch 2000] train_loss: 0.0772, \t eval_loss: 0.0704, \t auc: 0.581292\n",
      "[epoch  0 batch 2500] train_loss: 0.0745, \t eval_loss: 0.0703, \t auc: 0.593562\n",
      "[epoch  0 batch 3000] train_loss: 0.0763, \t eval_loss: 0.0702, \t auc: 0.615013\n",
      "[epoch  0 batch 3500] train_loss: 0.0701, \t eval_loss: 0.0697, \t auc: 0.606536\n",
      "[epoch  0 batch 4000] train_loss: 0.0756, \t eval_loss: 0.0698, \t auc: 0.607809\n",
      "[epoch  0 batch 4500] train_loss: 0.0802, \t eval_loss: 0.0695, \t auc: 0.616478\n",
      "[epoch  0 batch 5000] train_loss: 0.0654, \t eval_loss: 0.0694, \t auc: 0.616629\n",
      "[epoch  0 batch 5500] train_loss: 0.0753, \t eval_loss: 0.0690, \t auc: 0.633582\n",
      "[epoch  0 batch 6000] train_loss: 0.0694, \t eval_loss: 0.0690, \t auc: 0.634704\n",
      "[epoch  0 batch 6500] train_loss: 0.0853, \t eval_loss: 0.0698, \t auc: 0.631342\n",
      "[epoch  0 batch 7000] train_loss: 0.0736, \t eval_loss: 0.0685, \t auc: 0.642655\n",
      "[epoch  0 batch 7500] train_loss: 0.0763, \t eval_loss: 0.0683, \t auc: 0.652295\n",
      "[epoch  0 batch 8000] train_loss: 0.0640, \t eval_loss: 0.0688, \t auc: 0.641697\n",
      "[epoch  0 batch 8500] train_loss: 0.0728, \t eval_loss: 0.0683, \t auc: 0.651927\n",
      "[epoch  1 batch  500] train_loss: 0.0805, \t eval_loss: 0.0688, \t auc: 0.654089\n",
      "[epoch  1 batch 1000] train_loss: 0.0879, \t eval_loss: 0.0693, \t auc: 0.635030\n",
      "[epoch  1 batch 1500] train_loss: 0.0787, \t eval_loss: 0.0688, \t auc: 0.633420\n",
      "[epoch  1 batch 2000] train_loss: 0.0741, \t eval_loss: 0.0685, \t auc: 0.645771\n",
      "[epoch  1 batch 2500] train_loss: 0.0714, \t eval_loss: 0.0684, \t auc: 0.657686\n",
      "[epoch  1 batch 3000] train_loss: 0.0731, \t eval_loss: 0.0686, \t auc: 0.672898\n",
      "[epoch  1 batch 3500] train_loss: 0.0676, \t eval_loss: 0.0680, \t auc: 0.667795\n",
      "[epoch  1 batch 4000] train_loss: 0.0719, \t eval_loss: 0.0682, \t auc: 0.661152\n",
      "[epoch  1 batch 4500] train_loss: 0.0762, \t eval_loss: 0.0680, \t auc: 0.667962\n",
      "[epoch  1 batch 5000] train_loss: 0.0624, \t eval_loss: 0.0683, \t auc: 0.659451\n",
      "[epoch  1 batch 5500] train_loss: 0.0718, \t eval_loss: 0.0678, \t auc: 0.677740\n",
      "[epoch  1 batch 6000] train_loss: 0.0666, \t eval_loss: 0.0679, \t auc: 0.675663\n",
      "[epoch  1 batch 6500] train_loss: 0.0823, \t eval_loss: 0.0688, \t auc: 0.665659\n",
      "[epoch  1 batch 7000] train_loss: 0.0703, \t eval_loss: 0.0676, \t auc: 0.679512\n",
      "[epoch  1 batch 7500] train_loss: 0.0735, \t eval_loss: 0.0675, \t auc: 0.681602\n",
      "[epoch  1 batch 8000] train_loss: 0.0612, \t eval_loss: 0.0681, \t auc: 0.671223\n",
      "[epoch  1 batch 8500] train_loss: 0.0699, \t eval_loss: 0.0677, \t auc: 0.680416\n",
      "[epoch  2 batch  500] train_loss: 0.0768, \t eval_loss: 0.0679, \t auc: 0.685198\n",
      "[epoch  2 batch 1000] train_loss: 0.0849, \t eval_loss: 0.0682, \t auc: 0.672693\n",
      "[epoch  2 batch 1500] train_loss: 0.0757, \t eval_loss: 0.0681, \t auc: 0.660699\n",
      "[epoch  2 batch 2000] train_loss: 0.0717, \t eval_loss: 0.0677, \t auc: 0.676510\n",
      "[epoch  2 batch 2500] train_loss: 0.0685, \t eval_loss: 0.0677, \t auc: 0.684165\n",
      "[epoch  2 batch 3000] train_loss: 0.0706, \t eval_loss: 0.0677, \t auc: 0.695494\n",
      "[epoch  2 batch 3500] train_loss: 0.0654, \t eval_loss: 0.0673, \t auc: 0.688197\n",
      "[epoch  2 batch 4000] train_loss: 0.0686, \t eval_loss: 0.0677, \t auc: 0.682002\n",
      "[epoch  2 batch 4500] train_loss: 0.0728, \t eval_loss: 0.0675, \t auc: 0.689424\n",
      "[epoch  2 batch 5000] train_loss: 0.0599, \t eval_loss: 0.0680, \t auc: 0.681900\n",
      "[epoch  2 batch 5500] train_loss: 0.0686, \t eval_loss: 0.0676, \t auc: 0.692845\n",
      "[epoch  2 batch 6000] train_loss: 0.0638, \t eval_loss: 0.0676, \t auc: 0.693651\n",
      "[epoch  2 batch 6500] train_loss: 0.0790, \t eval_loss: 0.0685, \t auc: 0.681053\n",
      "[epoch  2 batch 7000] train_loss: 0.0671, \t eval_loss: 0.0675, \t auc: 0.692636\n",
      "[epoch  2 batch 7500] train_loss: 0.0705, \t eval_loss: 0.0674, \t auc: 0.691625\n",
      "[epoch  2 batch 8000] train_loss: 0.0586, \t eval_loss: 0.0681, \t auc: 0.682244\n",
      "[epoch  2 batch 8500] train_loss: 0.0671, \t eval_loss: 0.0676, \t auc: 0.691367\n"
     ]
    }
   ],
   "source": [
    "train_df = df[df[\"timestamp\"] < 1512144000]   # 对应日期 2017-11-25 ~ 2017-12-02\n",
    "eval_df = df[df[\"timestamp\"] >= 1512144000]   # 对应日期 2017-12-03 ~ 2017-12-04\n",
    "\n",
    "train_info = train(train_df, eval_df, epochs=3, batch_size=32)   # 可根据需要调整训练的 epoch 数量，以及 batch_size 的大小"
   ]
  },
  {
   "cell_type": "markdown",
   "id": "96825741",
   "metadata": {},
   "source": [
    "### 结果图示\n",
    "\n",
    "#### Loss 变化曲线"
   ]
  },
  {
   "cell_type": "code",
   "execution_count": 7,
   "id": "d6be7d01",
   "metadata": {},
   "outputs": [
    {
     "data": {
      "text/plain": [
       "<AxesSubplot:xlabel='step'>"
      ]
     },
     "execution_count": 7,
     "metadata": {},
     "output_type": "execute_result"
    },
    {
     "data": {
      "image/png": "[encoded data removed]",
      "text/plain": [
       "<Figure size 576x360 with 1 Axes>"
      ]
     },
     "metadata": {
      "needs_background": "light"
     },
     "output_type": "display_data"
    }
   ],
   "source": [
    "train_info.plot(x=\"step\", y=[\"train_loss\", \"eval_loss\"], figsize=(8, 5))"
   ]
  },
  {
   "cell_type": "markdown",
   "id": "ccddc442",
   "metadata": {},
   "source": [
    "#### AUC 变化曲线\n",
    "\n",
    "该结果在 small 训练集上，仅用 3 个 epoch 已经能达到 0.7 左右的 auc 值，远超于天池给的 0.622 的参考基线。"
   ]
  },
  {
   "cell_type": "code",
   "execution_count": 8,
   "id": "85eeacd4",
   "metadata": {},
   "outputs": [
    {
     "data": {
      "text/plain": [
       "<AxesSubplot:xlabel='step'>"
      ]
     },
     "execution_count": 8,
     "metadata": {},
     "output_type": "execute_result"
    },
    {
     "data": {
      "image/png": "[encoded data removed]",
      "text/plain": [
       "<Figure size 576x360 with 1 Axes>"
      ]
     },
     "metadata": {
      "needs_background": "light"
     },
     "output_type": "display_data"
    }
   ],
   "source": [
    "train_info.plot(x=\"step\", y=[\"auc\"], figsize=(8, 5))"
   ]
  },
  {
   "cell_type": "markdown",
   "id": "0f35acc8",
   "metadata": {},
   "source": [
    "#### 对测试集进行评估"
   ]
  },
  {
   "cell_type": "code",
   "execution_count": 9,
   "id": "e8419627",
   "metadata": {},
   "outputs": [
    {
     "name": "stderr",
     "output_type": "stream",
     "text": [
      "/Users/lixuelin/code/DI-reco/train.py:80: SettingWithCopyWarning: \n",
      "A value is trying to be set on a copy of a slice from a DataFrame.\n",
      "Try using .loc[row_indexer,col_indexer] = value instead\n",
      "\n",
      "See the caveats in the documentation: https://pandas.pydata.org/pandas-docs/stable/user_guide/indexing.html#returning-a-view-versus-a-copy\n",
      "  test_df[\"pred\"] = pred\n"
     ]
    }
   ],
   "source": [
    "test_result = test(eval_df)   # 这里测试也使用了验证集"
   ]
  },
  {
   "cell_type": "markdown",
   "id": "8b6fe24a",
   "metadata": {},
   "source": [
    "下面对 pv, cart, fav, buy 4个行为做聚合，计算预估分的均值。\n",
    "1. 模型对 buy 行为的预估分最高，符合预期。\n",
    "2. cart 行为（加购物车）排在第二，也体现了添加购物车和购买商品之间存在着紧密的关联。"
   ]
  },
  {
   "cell_type": "code",
   "execution_count": 10,
   "id": "4d83b741",
   "metadata": {},
   "outputs": [
    {
     "data": {
      "text/plain": [
       "behavior\n",
       "buy     0.024515\n",
       "cart    0.016054\n",
       "fav     0.013647\n",
       "pv      0.013193\n",
       "Name: pred, dtype: float64"
      ]
     },
     "execution_count": 10,
     "metadata": {},
     "output_type": "execute_result"
    }
   ],
   "source": [
    "test_result.groupby(\"behavior\")[\"pred\"].mean()"
   ]
  },
  {
   "cell_type": "markdown",
   "id": "28675eec",
   "metadata": {},
   "source": [
    "随机选取用户，可见对于用户真实购买的物品，模型给出的预估值高于大多数仅浏览的物品的预估值。"
   ]
  },
  {
   "cell_type": "code",
   "execution_count": 11,
   "id": "bebf7c6d",
   "metadata": {},
   "outputs": [
    {
     "data": {
      "text/html": [
       "<div>\n",
       "<style scoped>\n",
       "    .dataframe tbody tr th:only-of-type {\n",
       "        vertical-align: middle;\n",
       "    }\n",
       "\n",
       "    .dataframe tbody tr th {\n",
       "        vertical-align: top;\n",
       "    }\n",
       "\n",
       "    .dataframe thead th {\n",
       "        text-align: right;\n",
       "    }\n",
       "</style>\n",
       "<table border=\"1\" class=\"dataframe\">\n",
       "  <thead>\n",
       "    <tr style=\"text-align: right;\">\n",
       "      <th></th>\n",
       "      <th>user</th>\n",
       "      <th>item</th>\n",
       "      <th>behavior</th>\n",
       "      <th>pred</th>\n",
       "    </tr>\n",
       "  </thead>\n",
       "  <tbody>\n",
       "    <tr>\n",
       "      <th>382715</th>\n",
       "      <td>9771</td>\n",
       "      <td>5187</td>\n",
       "      <td>pv</td>\n",
       "      <td>0.009694</td>\n",
       "    </tr>\n",
       "    <tr>\n",
       "      <th>382716</th>\n",
       "      <td>9771</td>\n",
       "      <td>7707</td>\n",
       "      <td>fav</td>\n",
       "      <td>0.002517</td>\n",
       "    </tr>\n",
       "    <tr>\n",
       "      <th>382717</th>\n",
       "      <td>9771</td>\n",
       "      <td>1300</td>\n",
       "      <td>pv</td>\n",
       "      <td>0.009317</td>\n",
       "    </tr>\n",
       "    <tr>\n",
       "      <th>382718</th>\n",
       "      <td>9771</td>\n",
       "      <td>5244</td>\n",
       "      <td>fav</td>\n",
       "      <td>0.006606</td>\n",
       "    </tr>\n",
       "    <tr>\n",
       "      <th>382719</th>\n",
       "      <td>9771</td>\n",
       "      <td>2581</td>\n",
       "      <td>fav</td>\n",
       "      <td>0.005638</td>\n",
       "    </tr>\n",
       "    <tr>\n",
       "      <th>382720</th>\n",
       "      <td>9771</td>\n",
       "      <td>3589</td>\n",
       "      <td>pv</td>\n",
       "      <td>0.022085</td>\n",
       "    </tr>\n",
       "    <tr>\n",
       "      <th>382721</th>\n",
       "      <td>9771</td>\n",
       "      <td>5606</td>\n",
       "      <td>fav</td>\n",
       "      <td>0.007961</td>\n",
       "    </tr>\n",
       "    <tr>\n",
       "      <th>382722</th>\n",
       "      <td>9771</td>\n",
       "      <td>535</td>\n",
       "      <td>pv</td>\n",
       "      <td>0.045520</td>\n",
       "    </tr>\n",
       "    <tr>\n",
       "      <th>382723</th>\n",
       "      <td>9771</td>\n",
       "      <td>3593</td>\n",
       "      <td>pv</td>\n",
       "      <td>0.007398</td>\n",
       "    </tr>\n",
       "    <tr>\n",
       "      <th>382724</th>\n",
       "      <td>9771</td>\n",
       "      <td>3604</td>\n",
       "      <td>pv</td>\n",
       "      <td>0.115556</td>\n",
       "    </tr>\n",
       "    <tr>\n",
       "      <th>382725</th>\n",
       "      <td>9771</td>\n",
       "      <td>3604</td>\n",
       "      <td>buy</td>\n",
       "      <td>0.115556</td>\n",
       "    </tr>\n",
       "  </tbody>\n",
       "</table>\n",
       "</div>"
      ],
      "text/plain": [
       "        user  item behavior      pred\n",
       "382715  9771  5187       pv  0.009694\n",
       "382716  9771  7707      fav  0.002517\n",
       "382717  9771  1300       pv  0.009317\n",
       "382718  9771  5244      fav  0.006606\n",
       "382719  9771  2581      fav  0.005638\n",
       "382720  9771  3589       pv  0.022085\n",
       "382721  9771  5606      fav  0.007961\n",
       "382722  9771   535       pv  0.045520\n",
       "382723  9771  3593       pv  0.007398\n",
       "382724  9771  3604       pv  0.115556\n",
       "382725  9771  3604      buy  0.115556"
      ]
     },
     "execution_count": 11,
     "metadata": {},
     "output_type": "execute_result"
    }
   ],
   "source": [
    "test_result[test_result[\"user\"] == 9771][[\"user\", \"item\", \"behavior\", \"pred\"]]"
   ]
  },
  {
   "cell_type": "code",
   "execution_count": null,
   "id": "99835911",
   "metadata": {},
   "outputs": [],
   "source": []
  }
 ],
 "metadata": {
  "kernelspec": {
   "display_name": "Python 3 (ipykernel)",
   "language": "python",
   "name": "python3"
  },
  "language_info": {
   "codemirror_mode": {
    "name": "ipython",
    "version": 3
   },
   "file_extension": ".py",
   "mimetype": "text/x-python",
   "name": "python",
   "nbconvert_exporter": "python",
   "pygments_lexer": "ipython3",
   "version": "3.9.10"
  }
 },
 "nbformat": 4,
 "nbformat_minor": 5
}
